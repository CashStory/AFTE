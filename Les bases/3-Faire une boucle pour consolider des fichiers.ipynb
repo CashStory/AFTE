{
 "cells": [
  {
   "cell_type": "code",
   "execution_count": 1,
   "id": "a14af988-2d77-4d1e-870f-5be31fc005d7",
   "metadata": {
    "execution": {
     "iopub.execute_input": "2021-10-07T12:40:13.620496Z",
     "iopub.status.busy": "2021-10-07T12:40:13.620155Z",
     "iopub.status.idle": "2021-10-07T12:40:14.820345Z",
     "shell.execute_reply": "2021-10-07T12:40:14.819716Z",
     "shell.execute_reply.started": "2021-10-07T12:40:13.620374Z"
    }
   },
   "outputs": [],
   "source": [
    "import os\n",
    "import pandas as pd\n",
    "my_list = []\n",
    "for file in os.listdir():\n",
    "    if file.endswith('.xlsx'):\n",
    "        df = pd.read_excel(file)\n",
    "        my_list.append(df)\n",
    "\n",
    "df_concat = pd.concat(my_list, axis=0)\n",
    "df_concat.to_excel('concatenate.xlsx', index=False)"
   ]
  },
  {
   "cell_type": "code",
   "execution_count": 2,
   "id": "59834b50-d79e-4b94-bac6-b8b2162cc34b",
   "metadata": {
    "execution": {
     "iopub.execute_input": "2021-10-07T12:44:59.769522Z",
     "iopub.status.busy": "2021-10-07T12:44:59.769265Z",
     "iopub.status.idle": "2021-10-07T12:45:01.692630Z",
     "shell.execute_reply": "2021-10-07T12:45:01.691566Z",
     "shell.execute_reply.started": "2021-10-07T12:44:59.769488Z"
    }
   },
   "outputs": [
    {
     "name": "stdout",
     "output_type": "stream",
     "text": [
      "👌 💌 Email has been sent successfully !\n"
     ]
    }
   ],
   "source": [
    "import naas\n",
    "email_to = \"jeremy.ravenel@cashstory.com\"\n",
    "subject = \"Mon fichier consolidé journalié\"\n",
    "content = \"Voici le fichier consolidé de la tréso\"\n",
    "files = [\"concatenate.xlsx\"]\n",
    "\n",
    "naas.notification.send(email_to=email_to, subject=subject, html=content, files=files)"
   ]
  },
  {
   "cell_type": "code",
   "execution_count": 3,
   "id": "360d681f-bfa2-4fc0-818b-1c22e53462d8",
   "metadata": {
    "execution": {
     "iopub.execute_input": "2021-10-07T12:46:51.630963Z",
     "iopub.status.busy": "2021-10-07T12:46:51.630736Z",
     "iopub.status.idle": "2021-10-07T12:46:52.056271Z",
     "shell.execute_reply": "2021-10-07T12:46:52.055608Z",
     "shell.execute_reply.started": "2021-10-07T12:46:51.630939Z"
    }
   },
   "outputs": [
    {
     "name": "stdout",
     "output_type": "stream",
     "text": [
      "👌 Well done! Your Notebook has been sent to production. \n",
      "\n",
      "⏰ It will be scheduled \"0 0 * * THU\" (more on the syntax on https://crontab.guru/).\n",
      "\n",
      "Ps: to remove the \"Scheduler\", just replace .add by .delete\n"
     ]
    }
   ],
   "source": [
    "naas.scheduler.add(cron=\"0 0 * * THU\")"
   ]
  },
  {
   "cell_type": "code",
   "execution_count": null,
   "id": "daa834c6-4888-44f3-9130-c35878aa8713",
   "metadata": {},
   "outputs": [],
   "source": []
  }
 ],
 "metadata": {
  "kernelspec": {
   "display_name": "Python 3",
   "language": "python",
   "name": "python3"
  },
  "language_info": {
   "codemirror_mode": {
    "name": "ipython",
    "version": 3
   },
   "file_extension": ".py",
   "mimetype": "text/x-python",
   "name": "python",
   "nbconvert_exporter": "python",
   "pygments_lexer": "ipython3",
   "version": "3.8.8"
  }
 },
 "nbformat": 4,
 "nbformat_minor": 5
}
