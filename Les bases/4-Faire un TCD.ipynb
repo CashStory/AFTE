{
 "cells": [
  {
   "cell_type": "markdown",
   "id": "65028019-99e2-4605-bb17-925c649bcc22",
   "metadata": {},
   "source": [
    "# Faire un TCD "
   ]
  },
  {
   "cell_type": "markdown",
   "id": "70c43c48-ea62-4ea2-a2ae-418eaca8688d",
   "metadata": {},
   "source": [
    "Voici ma documentation pour la gestion cash aujourd'hui."
   ]
  },
  {
   "cell_type": "code",
   "execution_count": 1,
   "id": "e06d7258-f15c-4447-9f80-7541e2e459be",
   "metadata": {
    "execution": {
     "iopub.execute_input": "2021-10-07T12:49:38.852701Z",
     "iopub.status.busy": "2021-10-07T12:49:38.852324Z",
     "iopub.status.idle": "2021-10-07T12:49:39.178185Z",
     "shell.execute_reply": "2021-10-07T12:49:39.177598Z",
     "shell.execute_reply.started": "2021-10-07T12:49:38.852608Z"
    }
   },
   "outputs": [],
   "source": [
    "import pandas as pd\n",
    "import numpy as np"
   ]
  },
  {
   "cell_type": "code",
   "execution_count": 3,
   "id": "0f5ea8d7-61f1-4ec4-a7ff-5393561e9bb2",
   "metadata": {
    "execution": {
     "iopub.execute_input": "2021-10-07T12:51:56.072361Z",
     "iopub.status.busy": "2021-10-07T12:51:56.072133Z",
     "iopub.status.idle": "2021-10-07T12:51:56.086559Z",
     "shell.execute_reply": "2021-10-07T12:51:56.085890Z",
     "shell.execute_reply.started": "2021-10-07T12:51:56.072339Z"
    },
    "tags": []
   },
   "outputs": [
    {
     "data": {
      "text/html": [
       "<div>\n",
       "<style scoped>\n",
       "    .dataframe tbody tr th:only-of-type {\n",
       "        vertical-align: middle;\n",
       "    }\n",
       "\n",
       "    .dataframe tbody tr th {\n",
       "        vertical-align: top;\n",
       "    }\n",
       "\n",
       "    .dataframe thead th {\n",
       "        text-align: right;\n",
       "    }\n",
       "</style>\n",
       "<table border=\"1\" class=\"dataframe\">\n",
       "  <thead>\n",
       "    <tr style=\"text-align: right;\">\n",
       "      <th></th>\n",
       "      <th>item</th>\n",
       "      <th>size</th>\n",
       "      <th>location</th>\n",
       "      <th>price</th>\n",
       "    </tr>\n",
       "  </thead>\n",
       "  <tbody>\n",
       "    <tr>\n",
       "      <th>0</th>\n",
       "      <td>apple</td>\n",
       "      <td>small</td>\n",
       "      <td>Walmart</td>\n",
       "      <td>3.0</td>\n",
       "    </tr>\n",
       "    <tr>\n",
       "      <th>1</th>\n",
       "      <td>apple</td>\n",
       "      <td>small</td>\n",
       "      <td>Aldi</td>\n",
       "      <td>2.0</td>\n",
       "    </tr>\n",
       "    <tr>\n",
       "      <th>2</th>\n",
       "      <td>apple</td>\n",
       "      <td>large</td>\n",
       "      <td>Walmart</td>\n",
       "      <td>4.0</td>\n",
       "    </tr>\n",
       "    <tr>\n",
       "      <th>3</th>\n",
       "      <td>apple</td>\n",
       "      <td>large</td>\n",
       "      <td>Aldi</td>\n",
       "      <td>3.0</td>\n",
       "    </tr>\n",
       "    <tr>\n",
       "      <th>4</th>\n",
       "      <td>apple</td>\n",
       "      <td>large</td>\n",
       "      <td>Aldi</td>\n",
       "      <td>2.5</td>\n",
       "    </tr>\n",
       "  </tbody>\n",
       "</table>\n",
       "</div>"
      ],
      "text/plain": [
       "    item   size location  price\n",
       "0  apple  small  Walmart    3.0\n",
       "1  apple  small     Aldi    2.0\n",
       "2  apple  large  Walmart    4.0\n",
       "3  apple  large     Aldi    3.0\n",
       "4  apple  large     Aldi    2.5"
      ]
     },
     "execution_count": 3,
     "metadata": {},
     "output_type": "execute_result"
    }
   ],
   "source": [
    "df = pd.DataFrame(\n",
    "    {\n",
    "        \"item\": [\"apple\", \"apple\", \"apple\", \"apple\", \"apple\"],\n",
    "        \"size\": [\"small\", \"small\", \"large\", \"large\", \"large\"],\n",
    "        \"location\": [\"Walmart\", \"Aldi\", \"Walmart\", \"Aldi\", \"Aldi\"],\n",
    "        \"price\": [3, 2, 4, 3, 2.5],\n",
    "    }\n",
    ")\n",
    "df"
   ]
  },
  {
   "cell_type": "code",
   "execution_count": 8,
   "id": "e6983ce0-2923-410a-bcf7-21f24b9a519d",
   "metadata": {
    "execution": {
     "iopub.execute_input": "2021-10-07T12:53:00.892833Z",
     "iopub.status.busy": "2021-10-07T12:53:00.892603Z",
     "iopub.status.idle": "2021-10-07T12:53:00.911395Z",
     "shell.execute_reply": "2021-10-07T12:53:00.910703Z",
     "shell.execute_reply.started": "2021-10-07T12:53:00.892809Z"
    },
    "tags": []
   },
   "outputs": [
    {
     "data": {
      "text/html": [
       "<div>\n",
       "<style scoped>\n",
       "    .dataframe tbody tr th:only-of-type {\n",
       "        vertical-align: middle;\n",
       "    }\n",
       "\n",
       "    .dataframe tbody tr th {\n",
       "        vertical-align: top;\n",
       "    }\n",
       "\n",
       "    .dataframe thead th {\n",
       "        text-align: right;\n",
       "    }\n",
       "</style>\n",
       "<table border=\"1\" class=\"dataframe\">\n",
       "  <thead>\n",
       "    <tr style=\"text-align: right;\">\n",
       "      <th></th>\n",
       "      <th>location</th>\n",
       "      <th>Aldi</th>\n",
       "      <th>Walmart</th>\n",
       "    </tr>\n",
       "    <tr>\n",
       "      <th>item</th>\n",
       "      <th>size</th>\n",
       "      <th></th>\n",
       "      <th></th>\n",
       "    </tr>\n",
       "  </thead>\n",
       "  <tbody>\n",
       "    <tr>\n",
       "      <th rowspan=\"2\" valign=\"top\">apple</th>\n",
       "      <th>large</th>\n",
       "      <td>2.5</td>\n",
       "      <td>4.0</td>\n",
       "    </tr>\n",
       "    <tr>\n",
       "      <th>small</th>\n",
       "      <td>2.0</td>\n",
       "      <td>3.0</td>\n",
       "    </tr>\n",
       "  </tbody>\n",
       "</table>\n",
       "</div>"
      ],
      "text/plain": [
       "location     Aldi  Walmart\n",
       "item  size                \n",
       "apple large   2.5      4.0\n",
       "      small   2.0      3.0"
      ]
     },
     "execution_count": 8,
     "metadata": {},
     "output_type": "execute_result"
    }
   ],
   "source": [
    "pivot = pd.pivot_table(\n",
    "    df, values=\"price\", index=[\"item\", \"size\"], columns=[\"location\"], aggfunc=\"min\"\n",
    ")\n",
    "pivot"
   ]
  },
  {
   "cell_type": "code",
   "execution_count": null,
   "id": "c22dc070-69fe-40af-82df-24c12dc684f4",
   "metadata": {},
   "outputs": [],
   "source": []
  }
 ],
 "metadata": {
  "kernelspec": {
   "display_name": "Python 3",
   "language": "python",
   "name": "python3"
  },
  "language_info": {
   "codemirror_mode": {
    "name": "ipython",
    "version": 3
   },
   "file_extension": ".py",
   "mimetype": "text/x-python",
   "name": "python",
   "nbconvert_exporter": "python",
   "pygments_lexer": "ipython3",
   "version": "3.8.8"
  }
 },
 "nbformat": 4,
 "nbformat_minor": 5
}
