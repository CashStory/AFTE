{
 "cells": [
  {
   "cell_type": "code",
   "execution_count": null,
   "id": "a14af988-2d77-4d1e-870f-5be31fc005d7",
   "metadata": {},
   "outputs": [],
   "source": [
    "import os\n",
    "import pandas as pd\n",
    "my_list = []\n",
    "for file in os.listdir():\n",
    "    if file.endswith('.xlsx'):\n",
    "        df = pd.read_excel(file)\n",
    "        my_list.append(df)\n",
    "\n",
    "df_concat = pd.concat(my_list, axis=0)\n",
    "df_concat.to_excel('concatenate.xlsx', index=False)"
   ]
  }
 ],
 "metadata": {
  "kernelspec": {
   "display_name": "Python 3",
   "language": "python",
   "name": "python3"
  },
  "language_info": {
   "codemirror_mode": {
    "name": "ipython",
    "version": 3
   },
   "file_extension": ".py",
   "mimetype": "text/x-python",
   "name": "python",
   "nbconvert_exporter": "python",
   "pygments_lexer": "ipython3",
   "version": "3.8.8"
  }
 },
 "nbformat": 4,
 "nbformat_minor": 5
}
