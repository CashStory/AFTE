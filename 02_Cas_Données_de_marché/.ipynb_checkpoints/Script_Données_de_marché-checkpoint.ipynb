{
 "cells": [
  {
   "cell_type": "markdown",
   "metadata": {},
   "source": [
    "# Cas pratique : Les données de marché"
   ]
  },
  {
   "cell_type": "markdown",
   "metadata": {},
   "source": [
    "## Input"
   ]
  },
  {
   "cell_type": "markdown",
   "metadata": {},
   "source": [
    "### Import des libraries"
   ]
  },
  {
   "cell_type": "code",
   "execution_count": 1,
   "metadata": {
    "execution": {
     "iopub.execute_input": "2021-10-06T19:59:54.233118Z",
     "iopub.status.busy": "2021-10-06T19:59:54.232680Z",
     "iopub.status.idle": "2021-10-06T19:59:55.733824Z",
     "shell.execute_reply": "2021-10-06T19:59:55.733170Z",
     "shell.execute_reply.started": "2021-10-06T19:59:54.233045Z"
    },
    "tags": []
   },
   "outputs": [],
   "source": [
    "import pandas as pd\n",
    "from datetime import datetime, timedelta, date\n",
    "import naas\n",
    "import markdown2"
   ]
  },
  {
   "cell_type": "markdown",
   "metadata": {},
   "source": [
    "### Récupération des données yahoo"
   ]
  },
  {
   "cell_type": "code",
   "execution_count": 2,
   "metadata": {
    "execution": {
     "iopub.execute_input": "2021-10-06T19:59:55.735216Z",
     "iopub.status.busy": "2021-10-06T19:59:55.735000Z",
     "iopub.status.idle": "2021-10-06T19:59:55.829079Z",
     "shell.execute_reply": "2021-10-06T19:59:55.828489Z",
     "shell.execute_reply.started": "2021-10-06T19:59:55.735187Z"
    },
    "tags": []
   },
   "outputs": [
    {
     "data": {
      "text/html": [
       "<div>\n",
       "<style scoped>\n",
       "    .dataframe tbody tr th:only-of-type {\n",
       "        vertical-align: middle;\n",
       "    }\n",
       "\n",
       "    .dataframe tbody tr th {\n",
       "        vertical-align: top;\n",
       "    }\n",
       "\n",
       "    .dataframe thead th {\n",
       "        text-align: right;\n",
       "    }\n",
       "</style>\n",
       "<table border=\"1\" class=\"dataframe\">\n",
       "  <thead>\n",
       "    <tr style=\"text-align: right;\">\n",
       "      <th></th>\n",
       "      <th>Date</th>\n",
       "      <th>Open</th>\n",
       "      <th>High</th>\n",
       "      <th>Low</th>\n",
       "      <th>Close</th>\n",
       "      <th>Adj Close</th>\n",
       "      <th>Volume</th>\n",
       "    </tr>\n",
       "  </thead>\n",
       "  <tbody>\n",
       "    <tr>\n",
       "      <th>0</th>\n",
       "      <td>2019-09-23</td>\n",
       "      <td>2983.500000</td>\n",
       "      <td>2999.149902</td>\n",
       "      <td>2982.229980</td>\n",
       "      <td>2991.780029</td>\n",
       "      <td>2991.780029</td>\n",
       "      <td>3186590000</td>\n",
       "    </tr>\n",
       "    <tr>\n",
       "      <th>1</th>\n",
       "      <td>2019-09-24</td>\n",
       "      <td>3002.429932</td>\n",
       "      <td>3007.979980</td>\n",
       "      <td>2957.729980</td>\n",
       "      <td>2966.600098</td>\n",
       "      <td>2966.600098</td>\n",
       "      <td>3868160000</td>\n",
       "    </tr>\n",
       "    <tr>\n",
       "      <th>2</th>\n",
       "      <td>2019-09-25</td>\n",
       "      <td>2968.350098</td>\n",
       "      <td>2989.820068</td>\n",
       "      <td>2952.860107</td>\n",
       "      <td>2984.870117</td>\n",
       "      <td>2984.870117</td>\n",
       "      <td>3318870000</td>\n",
       "    </tr>\n",
       "    <tr>\n",
       "      <th>3</th>\n",
       "      <td>2019-09-26</td>\n",
       "      <td>2985.729980</td>\n",
       "      <td>2987.280029</td>\n",
       "      <td>2963.709961</td>\n",
       "      <td>2977.620117</td>\n",
       "      <td>2977.620117</td>\n",
       "      <td>3077240000</td>\n",
       "    </tr>\n",
       "    <tr>\n",
       "      <th>4</th>\n",
       "      <td>2019-09-27</td>\n",
       "      <td>2985.469971</td>\n",
       "      <td>2987.310059</td>\n",
       "      <td>2945.530029</td>\n",
       "      <td>2961.790039</td>\n",
       "      <td>2961.790039</td>\n",
       "      <td>3243650000</td>\n",
       "    </tr>\n",
       "  </tbody>\n",
       "</table>\n",
       "</div>"
      ],
      "text/plain": [
       "         Date         Open         High          Low        Close  \\\n",
       "0  2019-09-23  2983.500000  2999.149902  2982.229980  2991.780029   \n",
       "1  2019-09-24  3002.429932  3007.979980  2957.729980  2966.600098   \n",
       "2  2019-09-25  2968.350098  2989.820068  2952.860107  2984.870117   \n",
       "3  2019-09-26  2985.729980  2987.280029  2963.709961  2977.620117   \n",
       "4  2019-09-27  2985.469971  2987.310059  2945.530029  2961.790039   \n",
       "\n",
       "     Adj Close      Volume  \n",
       "0  2991.780029  3186590000  \n",
       "1  2966.600098  3868160000  \n",
       "2  2984.870117  3318870000  \n",
       "3  2977.620117  3077240000  \n",
       "4  2961.790039  3243650000  "
      ]
     },
     "execution_count": 2,
     "metadata": {},
     "output_type": "execute_result"
    }
   ],
   "source": [
    "# Lecture des données sur Yahoo finance\n",
    "ticker = \"^GSPC\"\n",
    "period1 = \"1569172118\"\n",
    "period2 = \"1600794518\"\n",
    "url = f'https://query1.finance.yahoo.com/v7/finance/download/{ticker}?period1={period1}&period2={period2}&interval=1d&events=history'\n",
    "df = pd.read_csv(url)\n",
    "df = df.sort_values(by=\"Date\", ascending=True)\n",
    "df.head(5)"
   ]
  },
  {
   "cell_type": "markdown",
   "metadata": {},
   "source": [
    "### Variables"
   ]
  },
  {
   "cell_type": "code",
   "execution_count": 3,
   "metadata": {
    "execution": {
     "iopub.execute_input": "2021-10-06T19:59:55.831790Z",
     "iopub.status.busy": "2021-10-06T19:59:55.831600Z",
     "iopub.status.idle": "2021-10-06T19:59:55.846225Z",
     "shell.execute_reply": "2021-10-06T19:59:55.845727Z",
     "shell.execute_reply.started": "2021-10-06T19:59:55.831769Z"
    },
    "tags": []
   },
   "outputs": [],
   "source": [
    "# Input\n",
    "EXCEL_PATH = \"Dashboard_Market_data.xlsx\"\n",
    "SHEET_TICKERS = 'TICKERS'\n",
    "URL_YAHOO = \"https://query1.finance.yahoo.com/v7/finance/download\"\n",
    "MARKDOWN_PATH = \"FR_Market_data.md\"\n",
    "\n",
    "# Variabilisation des dates (bornes)\n",
    "PERIOD_DEB = datetime(2020, 1, 1).strftime(\"%s\")\n",
    "PERIOD_FIN = datetime.now().strftime(\"%s\")\n",
    "\n",
    "# Output\n",
    "OUTPUT_CSV = \"BASE_MARKET-DATA.csv\"\n",
    "\n",
    "# Email\n",
    "TODAY = datetime.now().strftime(\"%d/%m/%Y\")\n",
    "EMAIL_TO = [\"jeremy.ravenel@cashstory.com\"]\n",
    "SUBJECT = f\"📈 Votre brief quotidien: {TODAY}\""
   ]
  },
  {
   "cell_type": "markdown",
   "metadata": {},
   "source": [
    "### Récupération de la liste des tickers"
   ]
  },
  {
   "cell_type": "code",
   "execution_count": 4,
   "metadata": {
    "execution": {
     "iopub.execute_input": "2021-10-06T19:59:55.847300Z",
     "iopub.status.busy": "2021-10-06T19:59:55.847091Z",
     "iopub.status.idle": "2021-10-06T19:59:56.167746Z",
     "shell.execute_reply": "2021-10-06T19:59:56.167201Z",
     "shell.execute_reply.started": "2021-10-06T19:59:55.847279Z"
    },
    "tags": []
   },
   "outputs": [
    {
     "data": {
      "text/html": [
       "<div>\n",
       "<style scoped>\n",
       "    .dataframe tbody tr th:only-of-type {\n",
       "        vertical-align: middle;\n",
       "    }\n",
       "\n",
       "    .dataframe tbody tr th {\n",
       "        vertical-align: top;\n",
       "    }\n",
       "\n",
       "    .dataframe thead th {\n",
       "        text-align: right;\n",
       "    }\n",
       "</style>\n",
       "<table border=\"1\" class=\"dataframe\">\n",
       "  <thead>\n",
       "    <tr style=\"text-align: right;\">\n",
       "      <th></th>\n",
       "      <th>TYPOLOGY</th>\n",
       "      <th>TICKER</th>\n",
       "      <th>LABEL</th>\n",
       "      <th>ENTITIES</th>\n",
       "    </tr>\n",
       "  </thead>\n",
       "  <tbody>\n",
       "    <tr>\n",
       "      <th>48</th>\n",
       "      <td>COMMODITIES</td>\n",
       "      <td>GC=F</td>\n",
       "      <td>COMEX Gold</td>\n",
       "      <td>GLOBAL</td>\n",
       "    </tr>\n",
       "    <tr>\n",
       "      <th>49</th>\n",
       "      <td>BONDS</td>\n",
       "      <td>^IRX</td>\n",
       "      <td>13 Week Treasury</td>\n",
       "      <td>GLOBAL</td>\n",
       "    </tr>\n",
       "    <tr>\n",
       "      <th>50</th>\n",
       "      <td>BONDS</td>\n",
       "      <td>^FVX</td>\n",
       "      <td>Yield 5 Years</td>\n",
       "      <td>GLOBAL</td>\n",
       "    </tr>\n",
       "    <tr>\n",
       "      <th>51</th>\n",
       "      <td>BONDS</td>\n",
       "      <td>^TNX</td>\n",
       "      <td>Yield 10 Years</td>\n",
       "      <td>GLOBAL</td>\n",
       "    </tr>\n",
       "    <tr>\n",
       "      <th>52</th>\n",
       "      <td>BONDS</td>\n",
       "      <td>^TYX</td>\n",
       "      <td>Yield 30 Years</td>\n",
       "      <td>GLOBAL</td>\n",
       "    </tr>\n",
       "  </tbody>\n",
       "</table>\n",
       "</div>"
      ],
      "text/plain": [
       "       TYPOLOGY TICKER             LABEL ENTITIES\n",
       "48  COMMODITIES   GC=F        COMEX Gold   GLOBAL\n",
       "49        BONDS   ^IRX  13 Week Treasury   GLOBAL\n",
       "50        BONDS   ^FVX     Yield 5 Years   GLOBAL\n",
       "51        BONDS   ^TNX    Yield 10 Years   GLOBAL\n",
       "52        BONDS   ^TYX    Yield 30 Years   GLOBAL"
      ]
     },
     "execution_count": 4,
     "metadata": {},
     "output_type": "execute_result"
    }
   ],
   "source": [
    "ref_tickers = pd.read_excel(EXCEL_PATH,\n",
    "                            sheet_name=SHEET_TICKERS)\n",
    "ref_tickers.tail(5)"
   ]
  },
  {
   "cell_type": "code",
   "execution_count": 5,
   "metadata": {
    "execution": {
     "iopub.execute_input": "2021-10-06T19:59:56.169039Z",
     "iopub.status.busy": "2021-10-06T19:59:56.168800Z",
     "iopub.status.idle": "2021-10-06T20:00:00.851428Z",
     "shell.execute_reply": "2021-10-06T20:00:00.850823Z",
     "shell.execute_reply.started": "2021-10-06T19:59:56.169009Z"
    },
    "tags": []
   },
   "outputs": [
    {
     "name": "stdout",
     "output_type": "stream",
     "text": [
      "✅ Data successfully added for ticker ^GSPC.\n",
      "✅ Data successfully added for ticker ^DJI.\n",
      "✅ Data successfully added for ticker ^IXIC.\n",
      "✅ Data successfully added for ticker ^BVSP.\n",
      "✅ Data successfully added for ticker ^GSPTSE.\n",
      "❌ Ticker ^E3X.FGI does not exist.\n",
      "✅ Data successfully added for ticker ^GDAXI.\n",
      "✅ Data successfully added for ticker ^FCHI.\n",
      "✅ Data successfully added for ticker ^FTSE.\n",
      "❌ Ticker ^RTS.RS does not exist.\n",
      "✅ Data successfully added for ticker ^AXJO.\n",
      "✅ Data successfully added for ticker ^HSI.\n",
      "✅ Data successfully added for ticker AMZN.\n",
      "✅ Data successfully added for ticker EBAY.\n",
      "✅ Data successfully added for ticker GOOGL.\n",
      "✅ Data successfully added for ticker FB.\n",
      "✅ Data successfully added for ticker BABA.\n",
      "✅ Data successfully added for ticker BIDU.\n",
      "✅ Data successfully added for ticker SAP.\n",
      "✅ Data successfully added for ticker CRM.\n",
      "✅ Data successfully added for ticker TWTR.\n",
      "✅ Data successfully added for ticker PYPL.\n",
      "✅ Data successfully added for ticker AAPL.\n",
      "✅ Data successfully added for ticker MSFT.\n",
      "✅ Data successfully added for ticker ORCL.\n",
      "✅ Data successfully added for ticker IBM.\n",
      "✅ Data successfully added for ticker ORA.PA.\n",
      "✅ Data successfully added for ticker ILD.PA.\n",
      "✅ Data successfully added for ticker VZ.\n",
      "✅ Data successfully added for ticker T.\n",
      "❌ Ticker CHL does not exist.\n",
      "✅ Data successfully added for ticker VOD.L.\n",
      "✅ Data successfully added for ticker EURGBP=X.\n",
      "✅ Data successfully added for ticker EURUSD=x.\n",
      "✅ Data successfully added for ticker EURJPY=X.\n",
      "✅ Data successfully added for ticker JPYGBP=X.\n",
      "✅ Data successfully added for ticker JPYEUR=X.\n",
      "✅ Data successfully added for ticker JPYUSD=X.\n",
      "✅ Data successfully added for ticker GBPEUR=X.\n",
      "✅ Data successfully added for ticker GBPUSD=X.\n",
      "✅ Data successfully added for ticker GBPJPY=X.\n",
      "✅ Data successfully added for ticker GBP=X.\n",
      "✅ Data successfully added for ticker EUR=X.\n",
      "✅ Data successfully added for ticker JPY=X.\n",
      "✅ Data successfully added for ticker KC=F.\n",
      "✅ Data successfully added for ticker NG=F.\n",
      "✅ Data successfully added for ticker BZ=F.\n",
      "✅ Data successfully added for ticker GC=F.\n",
      "✅ Data successfully added for ticker ^IRX.\n",
      "✅ Data successfully added for ticker ^FVX.\n",
      "✅ Data successfully added for ticker ^TNX.\n",
      "✅ Data successfully added for ticker ^TYX.\n"
     ]
    },
    {
     "data": {
      "text/html": [
       "<div>\n",
       "<style scoped>\n",
       "    .dataframe tbody tr th:only-of-type {\n",
       "        vertical-align: middle;\n",
       "    }\n",
       "\n",
       "    .dataframe tbody tr th {\n",
       "        vertical-align: top;\n",
       "    }\n",
       "\n",
       "    .dataframe thead th {\n",
       "        text-align: right;\n",
       "    }\n",
       "</style>\n",
       "<table border=\"1\" class=\"dataframe\">\n",
       "  <thead>\n",
       "    <tr style=\"text-align: right;\">\n",
       "      <th></th>\n",
       "      <th>Date</th>\n",
       "      <th>Open</th>\n",
       "      <th>High</th>\n",
       "      <th>Low</th>\n",
       "      <th>Close</th>\n",
       "      <th>Adj Close</th>\n",
       "      <th>Volume</th>\n",
       "      <th>TICKER</th>\n",
       "    </tr>\n",
       "  </thead>\n",
       "  <tbody>\n",
       "    <tr>\n",
       "      <th>0</th>\n",
       "      <td>2019-12-31</td>\n",
       "      <td>3215.179932</td>\n",
       "      <td>3231.719971</td>\n",
       "      <td>3212.030029</td>\n",
       "      <td>3230.780029</td>\n",
       "      <td>3230.780029</td>\n",
       "      <td>2.893810e+09</td>\n",
       "      <td>^GSPC</td>\n",
       "    </tr>\n",
       "    <tr>\n",
       "      <th>1</th>\n",
       "      <td>2020-01-02</td>\n",
       "      <td>3244.669922</td>\n",
       "      <td>3258.139893</td>\n",
       "      <td>3235.530029</td>\n",
       "      <td>3257.850098</td>\n",
       "      <td>3257.850098</td>\n",
       "      <td>3.458250e+09</td>\n",
       "      <td>^GSPC</td>\n",
       "    </tr>\n",
       "    <tr>\n",
       "      <th>2</th>\n",
       "      <td>2020-01-03</td>\n",
       "      <td>3226.360107</td>\n",
       "      <td>3246.149902</td>\n",
       "      <td>3222.340088</td>\n",
       "      <td>3234.850098</td>\n",
       "      <td>3234.850098</td>\n",
       "      <td>3.461290e+09</td>\n",
       "      <td>^GSPC</td>\n",
       "    </tr>\n",
       "    <tr>\n",
       "      <th>3</th>\n",
       "      <td>2020-01-06</td>\n",
       "      <td>3217.550049</td>\n",
       "      <td>3246.840088</td>\n",
       "      <td>3214.639893</td>\n",
       "      <td>3246.280029</td>\n",
       "      <td>3246.280029</td>\n",
       "      <td>3.674070e+09</td>\n",
       "      <td>^GSPC</td>\n",
       "    </tr>\n",
       "    <tr>\n",
       "      <th>4</th>\n",
       "      <td>2020-01-07</td>\n",
       "      <td>3241.860107</td>\n",
       "      <td>3244.909912</td>\n",
       "      <td>3232.429932</td>\n",
       "      <td>3237.179932</td>\n",
       "      <td>3237.179932</td>\n",
       "      <td>3.420380e+09</td>\n",
       "      <td>^GSPC</td>\n",
       "    </tr>\n",
       "    <tr>\n",
       "      <th>...</th>\n",
       "      <td>...</td>\n",
       "      <td>...</td>\n",
       "      <td>...</td>\n",
       "      <td>...</td>\n",
       "      <td>...</td>\n",
       "      <td>...</td>\n",
       "      <td>...</td>\n",
       "      <td>...</td>\n",
       "    </tr>\n",
       "    <tr>\n",
       "      <th>533</th>\n",
       "      <td>2021-10-01</td>\n",
       "      <td>2.060000</td>\n",
       "      <td>2.078000</td>\n",
       "      <td>2.045000</td>\n",
       "      <td>2.058000</td>\n",
       "      <td>2.058000</td>\n",
       "      <td>0.000000e+00</td>\n",
       "      <td>^TYX</td>\n",
       "    </tr>\n",
       "    <tr>\n",
       "      <th>534</th>\n",
       "      <td>2021-10-03</td>\n",
       "      <td>NaN</td>\n",
       "      <td>NaN</td>\n",
       "      <td>NaN</td>\n",
       "      <td>NaN</td>\n",
       "      <td>NaN</td>\n",
       "      <td>NaN</td>\n",
       "      <td>^TYX</td>\n",
       "    </tr>\n",
       "    <tr>\n",
       "      <th>535</th>\n",
       "      <td>2021-10-04</td>\n",
       "      <td>2.062000</td>\n",
       "      <td>2.081000</td>\n",
       "      <td>2.034000</td>\n",
       "      <td>2.047000</td>\n",
       "      <td>2.047000</td>\n",
       "      <td>0.000000e+00</td>\n",
       "      <td>^TYX</td>\n",
       "    </tr>\n",
       "    <tr>\n",
       "      <th>536</th>\n",
       "      <td>2021-10-05</td>\n",
       "      <td>2.051000</td>\n",
       "      <td>2.103000</td>\n",
       "      <td>2.051000</td>\n",
       "      <td>2.098000</td>\n",
       "      <td>2.098000</td>\n",
       "      <td>0.000000e+00</td>\n",
       "      <td>^TYX</td>\n",
       "    </tr>\n",
       "    <tr>\n",
       "      <th>537</th>\n",
       "      <td>2021-10-06</td>\n",
       "      <td>2.108000</td>\n",
       "      <td>2.108000</td>\n",
       "      <td>2.059000</td>\n",
       "      <td>2.076000</td>\n",
       "      <td>2.076000</td>\n",
       "      <td>0.000000e+00</td>\n",
       "      <td>^TYX</td>\n",
       "    </tr>\n",
       "  </tbody>\n",
       "</table>\n",
       "<p>22425 rows × 8 columns</p>\n",
       "</div>"
      ],
      "text/plain": [
       "           Date         Open         High          Low        Close  \\\n",
       "0    2019-12-31  3215.179932  3231.719971  3212.030029  3230.780029   \n",
       "1    2020-01-02  3244.669922  3258.139893  3235.530029  3257.850098   \n",
       "2    2020-01-03  3226.360107  3246.149902  3222.340088  3234.850098   \n",
       "3    2020-01-06  3217.550049  3246.840088  3214.639893  3246.280029   \n",
       "4    2020-01-07  3241.860107  3244.909912  3232.429932  3237.179932   \n",
       "..          ...          ...          ...          ...          ...   \n",
       "533  2021-10-01     2.060000     2.078000     2.045000     2.058000   \n",
       "534  2021-10-03          NaN          NaN          NaN          NaN   \n",
       "535  2021-10-04     2.062000     2.081000     2.034000     2.047000   \n",
       "536  2021-10-05     2.051000     2.103000     2.051000     2.098000   \n",
       "537  2021-10-06     2.108000     2.108000     2.059000     2.076000   \n",
       "\n",
       "       Adj Close        Volume TICKER  \n",
       "0    3230.780029  2.893810e+09  ^GSPC  \n",
       "1    3257.850098  3.458250e+09  ^GSPC  \n",
       "2    3234.850098  3.461290e+09  ^GSPC  \n",
       "3    3246.280029  3.674070e+09  ^GSPC  \n",
       "4    3237.179932  3.420380e+09  ^GSPC  \n",
       "..           ...           ...    ...  \n",
       "533     2.058000  0.000000e+00   ^TYX  \n",
       "534          NaN           NaN   ^TYX  \n",
       "535     2.047000  0.000000e+00   ^TYX  \n",
       "536     2.098000  0.000000e+00   ^TYX  \n",
       "537     2.076000  0.000000e+00   ^TYX  \n",
       "\n",
       "[22425 rows x 8 columns]"
      ]
     },
     "execution_count": 5,
     "metadata": {},
     "output_type": "execute_result"
    }
   ],
   "source": [
    "# Récupération de tous les tickers et création de la base de donnée tickers\n",
    "tickers = ref_tickers['TICKER'].drop_duplicates()\n",
    "\n",
    "# Initialisation du dataframe\n",
    "data_tickers = pd.DataFrame()\n",
    "\n",
    "for ticker in tickers:\n",
    "    try:\n",
    "        url = f'{URL_YAHOO}/{ticker}?period1={PERIOD_DEB}&period2={PERIOD_FIN}&interval=1d&events=history'\n",
    "        df = pd.read_csv(url)\n",
    "        df[\"TICKER\"] = ticker\n",
    "        data_tickers = pd.concat([data_tickers, df], axis=0)\n",
    "        print(f\"✅ Data successfully added for ticker {ticker}.\")\n",
    "    except:\n",
    "        print(f\"❌ Ticker {ticker} does not exist.\")\n",
    "data_tickers"
   ]
  },
  {
   "cell_type": "markdown",
   "metadata": {},
   "source": [
    "## Model"
   ]
  },
  {
   "cell_type": "markdown",
   "metadata": {},
   "source": [
    "### Nettoyage de la base tickers"
   ]
  },
  {
   "cell_type": "code",
   "execution_count": 6,
   "metadata": {
    "execution": {
     "iopub.execute_input": "2021-10-06T20:00:00.852844Z",
     "iopub.status.busy": "2021-10-06T20:00:00.852587Z",
     "iopub.status.idle": "2021-10-06T20:00:00.876596Z",
     "shell.execute_reply": "2021-10-06T20:00:00.875802Z",
     "shell.execute_reply.started": "2021-10-06T20:00:00.852811Z"
    },
    "tags": []
   },
   "outputs": [
    {
     "data": {
      "text/html": [
       "<div>\n",
       "<style scoped>\n",
       "    .dataframe tbody tr th:only-of-type {\n",
       "        vertical-align: middle;\n",
       "    }\n",
       "\n",
       "    .dataframe tbody tr th {\n",
       "        vertical-align: top;\n",
       "    }\n",
       "\n",
       "    .dataframe thead th {\n",
       "        text-align: right;\n",
       "    }\n",
       "</style>\n",
       "<table border=\"1\" class=\"dataframe\">\n",
       "  <thead>\n",
       "    <tr style=\"text-align: right;\">\n",
       "      <th></th>\n",
       "      <th>DATE</th>\n",
       "      <th>TICKER</th>\n",
       "      <th>VALUE</th>\n",
       "    </tr>\n",
       "  </thead>\n",
       "  <tbody>\n",
       "    <tr>\n",
       "      <th>0</th>\n",
       "      <td>2019-12-31</td>\n",
       "      <td>^GSPC</td>\n",
       "      <td>3230.780029</td>\n",
       "    </tr>\n",
       "    <tr>\n",
       "      <th>1</th>\n",
       "      <td>2020-01-02</td>\n",
       "      <td>^GSPC</td>\n",
       "      <td>3257.850098</td>\n",
       "    </tr>\n",
       "    <tr>\n",
       "      <th>2</th>\n",
       "      <td>2020-01-03</td>\n",
       "      <td>^GSPC</td>\n",
       "      <td>3234.850098</td>\n",
       "    </tr>\n",
       "    <tr>\n",
       "      <th>3</th>\n",
       "      <td>2020-01-06</td>\n",
       "      <td>^GSPC</td>\n",
       "      <td>3246.280029</td>\n",
       "    </tr>\n",
       "    <tr>\n",
       "      <th>4</th>\n",
       "      <td>2020-01-07</td>\n",
       "      <td>^GSPC</td>\n",
       "      <td>3237.179932</td>\n",
       "    </tr>\n",
       "  </tbody>\n",
       "</table>\n",
       "</div>"
      ],
      "text/plain": [
       "        DATE TICKER        VALUE\n",
       "0 2019-12-31  ^GSPC  3230.780029\n",
       "1 2020-01-02  ^GSPC  3257.850098\n",
       "2 2020-01-03  ^GSPC  3234.850098\n",
       "3 2020-01-06  ^GSPC  3246.280029\n",
       "4 2020-01-07  ^GSPC  3237.179932"
      ]
     },
     "execution_count": 6,
     "metadata": {},
     "output_type": "execute_result"
    }
   ],
   "source": [
    "# Initialisation du dataframe\n",
    "data_clean = data_tickers.copy()\n",
    "\n",
    "# Selection des colonnes à conserver\n",
    "data_clean = data_clean[['Date', 'TICKER', 'Close']]\n",
    "\n",
    "# Mise au format de la date\n",
    "data_clean['Date'] = pd.to_datetime(data_clean['Date'], format='%Y-%m-%d')\n",
    "\n",
    "# Suppression des valeurs nulles dans Close\n",
    "data_clean = data_clean.dropna(subset=['Close'])\n",
    "\n",
    "# Renomage de la colonne 'Close' en 'VALUE'\n",
    "data_clean = data_clean.rename(columns={'Close': 'VALUE'})\n",
    "\n",
    "# Format des colonnes en majuscule\n",
    "data_clean.columns = data_clean.columns.str.upper()\n",
    "\n",
    "# Affichage du dataframe\n",
    "data_clean.head(5)"
   ]
  },
  {
   "cell_type": "markdown",
   "metadata": {},
   "source": [
    "### Calcul de la valeur J-1"
   ]
  },
  {
   "cell_type": "code",
   "execution_count": 7,
   "metadata": {
    "execution": {
     "iopub.execute_input": "2021-10-06T20:00:00.879679Z",
     "iopub.status.busy": "2021-10-06T20:00:00.879466Z",
     "iopub.status.idle": "2021-10-06T20:00:00.964632Z",
     "shell.execute_reply": "2021-10-06T20:00:00.963869Z",
     "shell.execute_reply.started": "2021-10-06T20:00:00.879656Z"
    },
    "tags": []
   },
   "outputs": [
    {
     "data": {
      "text/html": [
       "<div>\n",
       "<style scoped>\n",
       "    .dataframe tbody tr th:only-of-type {\n",
       "        vertical-align: middle;\n",
       "    }\n",
       "\n",
       "    .dataframe tbody tr th {\n",
       "        vertical-align: top;\n",
       "    }\n",
       "\n",
       "    .dataframe thead th {\n",
       "        text-align: right;\n",
       "    }\n",
       "</style>\n",
       "<table border=\"1\" class=\"dataframe\">\n",
       "  <thead>\n",
       "    <tr style=\"text-align: right;\">\n",
       "      <th></th>\n",
       "      <th>DATE</th>\n",
       "      <th>TICKER</th>\n",
       "      <th>VALUE</th>\n",
       "      <th>INDEX_D-1</th>\n",
       "    </tr>\n",
       "  </thead>\n",
       "  <tbody>\n",
       "    <tr>\n",
       "      <th>0</th>\n",
       "      <td>2019-12-31</td>\n",
       "      <td>^GSPC</td>\n",
       "      <td>3230.780029</td>\n",
       "      <td>-1</td>\n",
       "    </tr>\n",
       "    <tr>\n",
       "      <th>1</th>\n",
       "      <td>2020-01-02</td>\n",
       "      <td>^GSPC</td>\n",
       "      <td>3257.850098</td>\n",
       "      <td>0</td>\n",
       "    </tr>\n",
       "    <tr>\n",
       "      <th>2</th>\n",
       "      <td>2020-01-03</td>\n",
       "      <td>^GSPC</td>\n",
       "      <td>3234.850098</td>\n",
       "      <td>1</td>\n",
       "    </tr>\n",
       "    <tr>\n",
       "      <th>3</th>\n",
       "      <td>2020-01-06</td>\n",
       "      <td>^GSPC</td>\n",
       "      <td>3246.280029</td>\n",
       "      <td>2</td>\n",
       "    </tr>\n",
       "    <tr>\n",
       "      <th>4</th>\n",
       "      <td>2020-01-07</td>\n",
       "      <td>^GSPC</td>\n",
       "      <td>3237.179932</td>\n",
       "      <td>3</td>\n",
       "    </tr>\n",
       "    <tr>\n",
       "      <th>...</th>\n",
       "      <td>...</td>\n",
       "      <td>...</td>\n",
       "      <td>...</td>\n",
       "      <td>...</td>\n",
       "    </tr>\n",
       "    <tr>\n",
       "      <th>532</th>\n",
       "      <td>2021-09-30</td>\n",
       "      <td>^TYX</td>\n",
       "      <td>2.092000</td>\n",
       "      <td>531</td>\n",
       "    </tr>\n",
       "    <tr>\n",
       "      <th>533</th>\n",
       "      <td>2021-10-01</td>\n",
       "      <td>^TYX</td>\n",
       "      <td>2.058000</td>\n",
       "      <td>532</td>\n",
       "    </tr>\n",
       "    <tr>\n",
       "      <th>535</th>\n",
       "      <td>2021-10-04</td>\n",
       "      <td>^TYX</td>\n",
       "      <td>2.047000</td>\n",
       "      <td>534</td>\n",
       "    </tr>\n",
       "    <tr>\n",
       "      <th>536</th>\n",
       "      <td>2021-10-05</td>\n",
       "      <td>^TYX</td>\n",
       "      <td>2.098000</td>\n",
       "      <td>535</td>\n",
       "    </tr>\n",
       "    <tr>\n",
       "      <th>537</th>\n",
       "      <td>2021-10-06</td>\n",
       "      <td>^TYX</td>\n",
       "      <td>2.076000</td>\n",
       "      <td>536</td>\n",
       "    </tr>\n",
       "  </tbody>\n",
       "</table>\n",
       "<p>22034 rows × 4 columns</p>\n",
       "</div>"
      ],
      "text/plain": [
       "          DATE TICKER        VALUE  INDEX_D-1\n",
       "0   2019-12-31  ^GSPC  3230.780029         -1\n",
       "1   2020-01-02  ^GSPC  3257.850098          0\n",
       "2   2020-01-03  ^GSPC  3234.850098          1\n",
       "3   2020-01-06  ^GSPC  3246.280029          2\n",
       "4   2020-01-07  ^GSPC  3237.179932          3\n",
       "..         ...    ...          ...        ...\n",
       "532 2021-09-30   ^TYX     2.092000        531\n",
       "533 2021-10-01   ^TYX     2.058000        532\n",
       "535 2021-10-04   ^TYX     2.047000        534\n",
       "536 2021-10-05   ^TYX     2.098000        535\n",
       "537 2021-10-06   ^TYX     2.076000        536\n",
       "\n",
       "[22034 rows x 4 columns]"
      ]
     },
     "execution_count": 7,
     "metadata": {},
     "output_type": "execute_result"
    }
   ],
   "source": [
    "# Ajout des indexes dans le dataframe des valeurs\n",
    "data_value = data_clean.copy()\n",
    "data_value['INDEX_D-1'] = data_value.index - 1\n",
    "data_value"
   ]
  },
  {
   "cell_type": "code",
   "execution_count": 8,
   "metadata": {
    "execution": {
     "iopub.execute_input": "2021-10-06T20:00:00.973867Z",
     "iopub.status.busy": "2021-10-06T20:00:00.966141Z",
     "iopub.status.idle": "2021-10-06T20:00:01.076999Z",
     "shell.execute_reply": "2021-10-06T20:00:01.076301Z",
     "shell.execute_reply.started": "2021-10-06T20:00:00.973823Z"
    },
    "tags": []
   },
   "outputs": [
    {
     "data": {
      "text/html": [
       "<div>\n",
       "<style scoped>\n",
       "    .dataframe tbody tr th:only-of-type {\n",
       "        vertical-align: middle;\n",
       "    }\n",
       "\n",
       "    .dataframe tbody tr th {\n",
       "        vertical-align: top;\n",
       "    }\n",
       "\n",
       "    .dataframe thead th {\n",
       "        text-align: right;\n",
       "    }\n",
       "</style>\n",
       "<table border=\"1\" class=\"dataframe\">\n",
       "  <thead>\n",
       "    <tr style=\"text-align: right;\">\n",
       "      <th></th>\n",
       "      <th>TICKER</th>\n",
       "      <th>VALUE_D-1</th>\n",
       "      <th>INDEX_D-1</th>\n",
       "    </tr>\n",
       "  </thead>\n",
       "  <tbody>\n",
       "    <tr>\n",
       "      <th>0</th>\n",
       "      <td>^GSPC</td>\n",
       "      <td>3230.780029</td>\n",
       "      <td>0</td>\n",
       "    </tr>\n",
       "    <tr>\n",
       "      <th>1</th>\n",
       "      <td>^GSPC</td>\n",
       "      <td>3257.850098</td>\n",
       "      <td>1</td>\n",
       "    </tr>\n",
       "    <tr>\n",
       "      <th>2</th>\n",
       "      <td>^GSPC</td>\n",
       "      <td>3234.850098</td>\n",
       "      <td>2</td>\n",
       "    </tr>\n",
       "    <tr>\n",
       "      <th>3</th>\n",
       "      <td>^GSPC</td>\n",
       "      <td>3246.280029</td>\n",
       "      <td>3</td>\n",
       "    </tr>\n",
       "    <tr>\n",
       "      <th>4</th>\n",
       "      <td>^GSPC</td>\n",
       "      <td>3237.179932</td>\n",
       "      <td>4</td>\n",
       "    </tr>\n",
       "    <tr>\n",
       "      <th>...</th>\n",
       "      <td>...</td>\n",
       "      <td>...</td>\n",
       "      <td>...</td>\n",
       "    </tr>\n",
       "    <tr>\n",
       "      <th>532</th>\n",
       "      <td>^TYX</td>\n",
       "      <td>2.092000</td>\n",
       "      <td>532</td>\n",
       "    </tr>\n",
       "    <tr>\n",
       "      <th>533</th>\n",
       "      <td>^TYX</td>\n",
       "      <td>2.058000</td>\n",
       "      <td>533</td>\n",
       "    </tr>\n",
       "    <tr>\n",
       "      <th>535</th>\n",
       "      <td>^TYX</td>\n",
       "      <td>2.047000</td>\n",
       "      <td>535</td>\n",
       "    </tr>\n",
       "    <tr>\n",
       "      <th>536</th>\n",
       "      <td>^TYX</td>\n",
       "      <td>2.098000</td>\n",
       "      <td>536</td>\n",
       "    </tr>\n",
       "    <tr>\n",
       "      <th>537</th>\n",
       "      <td>^TYX</td>\n",
       "      <td>2.076000</td>\n",
       "      <td>537</td>\n",
       "    </tr>\n",
       "  </tbody>\n",
       "</table>\n",
       "<p>22034 rows × 3 columns</p>\n",
       "</div>"
      ],
      "text/plain": [
       "    TICKER    VALUE_D-1  INDEX_D-1\n",
       "0    ^GSPC  3230.780029          0\n",
       "1    ^GSPC  3257.850098          1\n",
       "2    ^GSPC  3234.850098          2\n",
       "3    ^GSPC  3246.280029          3\n",
       "4    ^GSPC  3237.179932          4\n",
       "..     ...          ...        ...\n",
       "532   ^TYX     2.092000        532\n",
       "533   ^TYX     2.058000        533\n",
       "535   ^TYX     2.047000        535\n",
       "536   ^TYX     2.098000        536\n",
       "537   ^TYX     2.076000        537\n",
       "\n",
       "[22034 rows x 3 columns]"
      ]
     },
     "execution_count": 8,
     "metadata": {},
     "output_type": "execute_result"
    }
   ],
   "source": [
    "# Création du dataframe pour récupérer la valeur précédente\n",
    "data_value_last = data_clean.copy()\n",
    "data_value_last['INDEX_D-1'] = data_value_last.index \n",
    "data_value_last = data_value_last.rename(columns={'VALUE': 'VALUE_D-1'})\n",
    "data_value_last = data_value_last.drop(['DATE'], axis=1)\n",
    "data_value_last"
   ]
  },
  {
   "cell_type": "code",
   "execution_count": 9,
   "metadata": {
    "execution": {
     "iopub.execute_input": "2021-10-06T20:00:01.079875Z",
     "iopub.status.busy": "2021-10-06T20:00:01.079683Z",
     "iopub.status.idle": "2021-10-06T20:00:01.176627Z",
     "shell.execute_reply": "2021-10-06T20:00:01.175842Z",
     "shell.execute_reply.started": "2021-10-06T20:00:01.079853Z"
    },
    "tags": []
   },
   "outputs": [
    {
     "data": {
      "text/html": [
       "<div>\n",
       "<style scoped>\n",
       "    .dataframe tbody tr th:only-of-type {\n",
       "        vertical-align: middle;\n",
       "    }\n",
       "\n",
       "    .dataframe tbody tr th {\n",
       "        vertical-align: top;\n",
       "    }\n",
       "\n",
       "    .dataframe thead th {\n",
       "        text-align: right;\n",
       "    }\n",
       "</style>\n",
       "<table border=\"1\" class=\"dataframe\">\n",
       "  <thead>\n",
       "    <tr style=\"text-align: right;\">\n",
       "      <th></th>\n",
       "      <th>DATE</th>\n",
       "      <th>TICKER</th>\n",
       "      <th>VALUE</th>\n",
       "      <th>VALUE_D-1</th>\n",
       "    </tr>\n",
       "  </thead>\n",
       "  <tbody>\n",
       "    <tr>\n",
       "      <th>0</th>\n",
       "      <td>2019-12-31</td>\n",
       "      <td>^GSPC</td>\n",
       "      <td>3230.780029</td>\n",
       "      <td>NaN</td>\n",
       "    </tr>\n",
       "    <tr>\n",
       "      <th>1</th>\n",
       "      <td>2020-01-02</td>\n",
       "      <td>^GSPC</td>\n",
       "      <td>3257.850098</td>\n",
       "      <td>3230.780029</td>\n",
       "    </tr>\n",
       "    <tr>\n",
       "      <th>2</th>\n",
       "      <td>2020-01-03</td>\n",
       "      <td>^GSPC</td>\n",
       "      <td>3234.850098</td>\n",
       "      <td>3257.850098</td>\n",
       "    </tr>\n",
       "    <tr>\n",
       "      <th>3</th>\n",
       "      <td>2020-01-06</td>\n",
       "      <td>^GSPC</td>\n",
       "      <td>3246.280029</td>\n",
       "      <td>3234.850098</td>\n",
       "    </tr>\n",
       "    <tr>\n",
       "      <th>4</th>\n",
       "      <td>2020-01-07</td>\n",
       "      <td>^GSPC</td>\n",
       "      <td>3237.179932</td>\n",
       "      <td>3246.280029</td>\n",
       "    </tr>\n",
       "  </tbody>\n",
       "</table>\n",
       "</div>"
      ],
      "text/plain": [
       "        DATE TICKER        VALUE    VALUE_D-1\n",
       "0 2019-12-31  ^GSPC  3230.780029          NaN\n",
       "1 2020-01-02  ^GSPC  3257.850098  3230.780029\n",
       "2 2020-01-03  ^GSPC  3234.850098  3257.850098\n",
       "3 2020-01-06  ^GSPC  3246.280029  3234.850098\n",
       "4 2020-01-07  ^GSPC  3237.179932  3246.280029"
      ]
     },
     "execution_count": 9,
     "metadata": {},
     "output_type": "execute_result"
    }
   ],
   "source": [
    "data_bdd = pd.merge(data_value,\n",
    "                    data_value_last,\n",
    "                    on=['TICKER', 'INDEX_D-1'],\n",
    "                    how='left')\n",
    "\n",
    "# Suppression de la colonne INDEX_D-1\n",
    "data_bdd = data_bdd.drop(['INDEX_D-1'], axis=1)\n",
    "\n",
    "# Affichage du dataframe\n",
    "data_bdd.head(5)"
   ]
  },
  {
   "cell_type": "markdown",
   "metadata": {},
   "source": [
    "### Ajout de données complémentaires"
   ]
  },
  {
   "cell_type": "code",
   "execution_count": 10,
   "metadata": {
    "execution": {
     "iopub.execute_input": "2021-10-06T20:00:01.179149Z",
     "iopub.status.busy": "2021-10-06T20:00:01.178957Z",
     "iopub.status.idle": "2021-10-06T20:00:01.262407Z",
     "shell.execute_reply": "2021-10-06T20:00:01.261653Z",
     "shell.execute_reply.started": "2021-10-06T20:00:01.179128Z"
    },
    "tags": []
   },
   "outputs": [
    {
     "data": {
      "text/html": [
       "<div>\n",
       "<style scoped>\n",
       "    .dataframe tbody tr th:only-of-type {\n",
       "        vertical-align: middle;\n",
       "    }\n",
       "\n",
       "    .dataframe tbody tr th {\n",
       "        vertical-align: top;\n",
       "    }\n",
       "\n",
       "    .dataframe thead th {\n",
       "        text-align: right;\n",
       "    }\n",
       "</style>\n",
       "<table border=\"1\" class=\"dataframe\">\n",
       "  <thead>\n",
       "    <tr style=\"text-align: right;\">\n",
       "      <th></th>\n",
       "      <th>DATE</th>\n",
       "      <th>TICKER</th>\n",
       "      <th>VALUE</th>\n",
       "      <th>VALUE_D-1</th>\n",
       "      <th>TYPOLOGY</th>\n",
       "      <th>LABEL</th>\n",
       "      <th>ENTITIES</th>\n",
       "    </tr>\n",
       "  </thead>\n",
       "  <tbody>\n",
       "    <tr>\n",
       "      <th>0</th>\n",
       "      <td>2019-12-31</td>\n",
       "      <td>^GSPC</td>\n",
       "      <td>3230.780029</td>\n",
       "      <td>NaN</td>\n",
       "      <td>INDICE</td>\n",
       "      <td>S&amp;P 500</td>\n",
       "      <td>AMERICAS</td>\n",
       "    </tr>\n",
       "    <tr>\n",
       "      <th>1</th>\n",
       "      <td>2020-01-02</td>\n",
       "      <td>^GSPC</td>\n",
       "      <td>3257.850098</td>\n",
       "      <td>3230.780029</td>\n",
       "      <td>INDICE</td>\n",
       "      <td>S&amp;P 500</td>\n",
       "      <td>AMERICAS</td>\n",
       "    </tr>\n",
       "    <tr>\n",
       "      <th>2</th>\n",
       "      <td>2020-01-03</td>\n",
       "      <td>^GSPC</td>\n",
       "      <td>3234.850098</td>\n",
       "      <td>3257.850098</td>\n",
       "      <td>INDICE</td>\n",
       "      <td>S&amp;P 500</td>\n",
       "      <td>AMERICAS</td>\n",
       "    </tr>\n",
       "    <tr>\n",
       "      <th>3</th>\n",
       "      <td>2020-01-06</td>\n",
       "      <td>^GSPC</td>\n",
       "      <td>3246.280029</td>\n",
       "      <td>3234.850098</td>\n",
       "      <td>INDICE</td>\n",
       "      <td>S&amp;P 500</td>\n",
       "      <td>AMERICAS</td>\n",
       "    </tr>\n",
       "    <tr>\n",
       "      <th>4</th>\n",
       "      <td>2020-01-07</td>\n",
       "      <td>^GSPC</td>\n",
       "      <td>3237.179932</td>\n",
       "      <td>3246.280029</td>\n",
       "      <td>INDICE</td>\n",
       "      <td>S&amp;P 500</td>\n",
       "      <td>AMERICAS</td>\n",
       "    </tr>\n",
       "  </tbody>\n",
       "</table>\n",
       "</div>"
      ],
      "text/plain": [
       "        DATE TICKER        VALUE    VALUE_D-1 TYPOLOGY    LABEL  ENTITIES\n",
       "0 2019-12-31  ^GSPC  3230.780029          NaN   INDICE  S&P 500  AMERICAS\n",
       "1 2020-01-02  ^GSPC  3257.850098  3230.780029   INDICE  S&P 500  AMERICAS\n",
       "2 2020-01-03  ^GSPC  3234.850098  3257.850098   INDICE  S&P 500  AMERICAS\n",
       "3 2020-01-06  ^GSPC  3246.280029  3234.850098   INDICE  S&P 500  AMERICAS\n",
       "4 2020-01-07  ^GSPC  3237.179932  3246.280029   INDICE  S&P 500  AMERICAS"
      ]
     },
     "execution_count": 10,
     "metadata": {},
     "output_type": "execute_result"
    }
   ],
   "source": [
    "# Initialisation du dataframe\n",
    "data_enr = pd.DataFrame()\n",
    "\n",
    "# Ajout des informations supplémentaires\n",
    "data_enr = pd.merge(data_bdd, \n",
    "                    ref_tickers, \n",
    "                    on=['TICKER'],\n",
    "                    how='left'\n",
    "                   )\n",
    "\n",
    "# Affichage du dataframe\n",
    "data_enr.head(5)"
   ]
  },
  {
   "cell_type": "markdown",
   "metadata": {},
   "source": [
    "### Creation des données globales"
   ]
  },
  {
   "cell_type": "code",
   "execution_count": 11,
   "metadata": {
    "execution": {
     "iopub.execute_input": "2021-10-06T20:00:01.263971Z",
     "iopub.status.busy": "2021-10-06T20:00:01.263700Z",
     "iopub.status.idle": "2021-10-06T20:00:01.364253Z",
     "shell.execute_reply": "2021-10-06T20:00:01.363449Z",
     "shell.execute_reply.started": "2021-10-06T20:00:01.263937Z"
    },
    "tags": []
   },
   "outputs": [
    {
     "data": {
      "text/html": [
       "<div>\n",
       "<style scoped>\n",
       "    .dataframe tbody tr th:only-of-type {\n",
       "        vertical-align: middle;\n",
       "    }\n",
       "\n",
       "    .dataframe tbody tr th {\n",
       "        vertical-align: top;\n",
       "    }\n",
       "\n",
       "    .dataframe thead th {\n",
       "        text-align: right;\n",
       "    }\n",
       "</style>\n",
       "<table border=\"1\" class=\"dataframe\">\n",
       "  <thead>\n",
       "    <tr style=\"text-align: right;\">\n",
       "      <th></th>\n",
       "      <th>DATE</th>\n",
       "      <th>TICKER</th>\n",
       "      <th>VALUE</th>\n",
       "      <th>VALUE_D-1</th>\n",
       "      <th>TYPOLOGY</th>\n",
       "      <th>LABEL</th>\n",
       "      <th>ENTITIES</th>\n",
       "    </tr>\n",
       "  </thead>\n",
       "  <tbody>\n",
       "    <tr>\n",
       "      <th>0</th>\n",
       "      <td>2019-12-31</td>\n",
       "      <td>^GSPC</td>\n",
       "      <td>3230.780029</td>\n",
       "      <td>NaN</td>\n",
       "      <td>INDICE</td>\n",
       "      <td>S&amp;P 500</td>\n",
       "      <td>AMERICAS</td>\n",
       "    </tr>\n",
       "    <tr>\n",
       "      <th>1</th>\n",
       "      <td>2020-01-02</td>\n",
       "      <td>^GSPC</td>\n",
       "      <td>3257.850098</td>\n",
       "      <td>3230.780029</td>\n",
       "      <td>INDICE</td>\n",
       "      <td>S&amp;P 500</td>\n",
       "      <td>AMERICAS</td>\n",
       "    </tr>\n",
       "    <tr>\n",
       "      <th>2</th>\n",
       "      <td>2020-01-03</td>\n",
       "      <td>^GSPC</td>\n",
       "      <td>3234.850098</td>\n",
       "      <td>3257.850098</td>\n",
       "      <td>INDICE</td>\n",
       "      <td>S&amp;P 500</td>\n",
       "      <td>AMERICAS</td>\n",
       "    </tr>\n",
       "    <tr>\n",
       "      <th>3</th>\n",
       "      <td>2020-01-06</td>\n",
       "      <td>^GSPC</td>\n",
       "      <td>3246.280029</td>\n",
       "      <td>3234.850098</td>\n",
       "      <td>INDICE</td>\n",
       "      <td>S&amp;P 500</td>\n",
       "      <td>AMERICAS</td>\n",
       "    </tr>\n",
       "    <tr>\n",
       "      <th>4</th>\n",
       "      <td>2020-01-07</td>\n",
       "      <td>^GSPC</td>\n",
       "      <td>3237.179932</td>\n",
       "      <td>3246.280029</td>\n",
       "      <td>INDICE</td>\n",
       "      <td>S&amp;P 500</td>\n",
       "      <td>AMERICAS</td>\n",
       "    </tr>\n",
       "  </tbody>\n",
       "</table>\n",
       "</div>"
      ],
      "text/plain": [
       "        DATE TICKER        VALUE    VALUE_D-1 TYPOLOGY    LABEL  ENTITIES\n",
       "0 2019-12-31  ^GSPC  3230.780029          NaN   INDICE  S&P 500  AMERICAS\n",
       "1 2020-01-02  ^GSPC  3257.850098  3230.780029   INDICE  S&P 500  AMERICAS\n",
       "2 2020-01-03  ^GSPC  3234.850098  3257.850098   INDICE  S&P 500  AMERICAS\n",
       "3 2020-01-06  ^GSPC  3246.280029  3234.850098   INDICE  S&P 500  AMERICAS\n",
       "4 2020-01-07  ^GSPC  3237.179932  3246.280029   INDICE  S&P 500  AMERICAS"
      ]
     },
     "execution_count": 11,
     "metadata": {},
     "output_type": "execute_result"
    }
   ],
   "source": [
    "# Initialisation du dataframe\n",
    "data_global = data_enr.copy()\n",
    "\n",
    "# Liste des tickers à selectionner\n",
    "tickers_list = ['^GSPC','^DJI','^FCHI','^FTSE','^HSI']\n",
    "\n",
    "# Filtre des valeurs\n",
    "data_global = data_global[data_global['TICKER'].isin(tickers_list)]\n",
    "\n",
    "# Modification de la colonne ENTITIES\n",
    "data_global['ENTITIES'] = 'GLOBAL'\n",
    "\n",
    "# Concaténation des 2 dataframes\n",
    "data_enr = pd.concat([data_enr, data_global], axis=0)\n",
    "\n",
    "# Affichage du dataframe\n",
    "data_enr.head(5)"
   ]
  },
  {
   "cell_type": "markdown",
   "metadata": {},
   "source": [
    "### Calcul des variations, dernière date et market winner"
   ]
  },
  {
   "cell_type": "code",
   "execution_count": 12,
   "metadata": {
    "execution": {
     "iopub.execute_input": "2021-10-06T20:00:01.365770Z",
     "iopub.status.busy": "2021-10-06T20:00:01.365505Z",
     "iopub.status.idle": "2021-10-06T20:00:01.892791Z",
     "shell.execute_reply": "2021-10-06T20:00:01.892085Z",
     "shell.execute_reply.started": "2021-10-06T20:00:01.365737Z"
    },
    "tags": []
   },
   "outputs": [
    {
     "data": {
      "text/html": [
       "<div>\n",
       "<style scoped>\n",
       "    .dataframe tbody tr th:only-of-type {\n",
       "        vertical-align: middle;\n",
       "    }\n",
       "\n",
       "    .dataframe tbody tr th {\n",
       "        vertical-align: top;\n",
       "    }\n",
       "\n",
       "    .dataframe thead th {\n",
       "        text-align: right;\n",
       "    }\n",
       "</style>\n",
       "<table border=\"1\" class=\"dataframe\">\n",
       "  <thead>\n",
       "    <tr style=\"text-align: right;\">\n",
       "      <th></th>\n",
       "      <th>DATE</th>\n",
       "      <th>TICKER</th>\n",
       "      <th>VALUE</th>\n",
       "      <th>VALUE_D-1</th>\n",
       "      <th>TYPOLOGY</th>\n",
       "      <th>LABEL</th>\n",
       "      <th>ENTITIES</th>\n",
       "      <th>VARV</th>\n",
       "      <th>VARP</th>\n",
       "      <th>DERNIERE_DATE</th>\n",
       "      <th>W_L</th>\n",
       "    </tr>\n",
       "  </thead>\n",
       "  <tbody>\n",
       "    <tr>\n",
       "      <th>0</th>\n",
       "      <td>2019-12-31</td>\n",
       "      <td>^GSPC</td>\n",
       "      <td>3230.780029</td>\n",
       "      <td>NaN</td>\n",
       "      <td>INDICE</td>\n",
       "      <td>S&amp;P 500</td>\n",
       "      <td>AMERICAS</td>\n",
       "      <td>NaN</td>\n",
       "      <td>NaN</td>\n",
       "      <td>0</td>\n",
       "      <td>NaN</td>\n",
       "    </tr>\n",
       "    <tr>\n",
       "      <th>1</th>\n",
       "      <td>2020-01-02</td>\n",
       "      <td>^GSPC</td>\n",
       "      <td>3257.850098</td>\n",
       "      <td>3230.780029</td>\n",
       "      <td>INDICE</td>\n",
       "      <td>S&amp;P 500</td>\n",
       "      <td>AMERICAS</td>\n",
       "      <td>27.070069</td>\n",
       "      <td>0.008379</td>\n",
       "      <td>0</td>\n",
       "      <td>1.0</td>\n",
       "    </tr>\n",
       "    <tr>\n",
       "      <th>2</th>\n",
       "      <td>2020-01-03</td>\n",
       "      <td>^GSPC</td>\n",
       "      <td>3234.850098</td>\n",
       "      <td>3257.850098</td>\n",
       "      <td>INDICE</td>\n",
       "      <td>S&amp;P 500</td>\n",
       "      <td>AMERICAS</td>\n",
       "      <td>-23.000000</td>\n",
       "      <td>-0.007060</td>\n",
       "      <td>0</td>\n",
       "      <td>0.0</td>\n",
       "    </tr>\n",
       "    <tr>\n",
       "      <th>3</th>\n",
       "      <td>2020-01-06</td>\n",
       "      <td>^GSPC</td>\n",
       "      <td>3246.280029</td>\n",
       "      <td>3234.850098</td>\n",
       "      <td>INDICE</td>\n",
       "      <td>S&amp;P 500</td>\n",
       "      <td>AMERICAS</td>\n",
       "      <td>11.429931</td>\n",
       "      <td>0.003533</td>\n",
       "      <td>0</td>\n",
       "      <td>1.0</td>\n",
       "    </tr>\n",
       "    <tr>\n",
       "      <th>4</th>\n",
       "      <td>2020-01-07</td>\n",
       "      <td>^GSPC</td>\n",
       "      <td>3237.179932</td>\n",
       "      <td>3246.280029</td>\n",
       "      <td>INDICE</td>\n",
       "      <td>S&amp;P 500</td>\n",
       "      <td>AMERICAS</td>\n",
       "      <td>-9.100097</td>\n",
       "      <td>-0.002803</td>\n",
       "      <td>0</td>\n",
       "      <td>0.0</td>\n",
       "    </tr>\n",
       "  </tbody>\n",
       "</table>\n",
       "</div>"
      ],
      "text/plain": [
       "        DATE TICKER        VALUE    VALUE_D-1 TYPOLOGY    LABEL  ENTITIES  \\\n",
       "0 2019-12-31  ^GSPC  3230.780029          NaN   INDICE  S&P 500  AMERICAS   \n",
       "1 2020-01-02  ^GSPC  3257.850098  3230.780029   INDICE  S&P 500  AMERICAS   \n",
       "2 2020-01-03  ^GSPC  3234.850098  3257.850098   INDICE  S&P 500  AMERICAS   \n",
       "3 2020-01-06  ^GSPC  3246.280029  3234.850098   INDICE  S&P 500  AMERICAS   \n",
       "4 2020-01-07  ^GSPC  3237.179932  3246.280029   INDICE  S&P 500  AMERICAS   \n",
       "\n",
       "        VARV      VARP  DERNIERE_DATE  W_L  \n",
       "0        NaN       NaN              0  NaN  \n",
       "1  27.070069  0.008379              0  1.0  \n",
       "2 -23.000000 -0.007060              0  0.0  \n",
       "3  11.429931  0.003533              0  1.0  \n",
       "4  -9.100097 -0.002803              0  0.0  "
      ]
     },
     "execution_count": 12,
     "metadata": {},
     "output_type": "execute_result"
    }
   ],
   "source": [
    "data_final = data_enr.copy()\n",
    "\n",
    "# Calcul des variations\n",
    "data_final['VARV'] = data_final['VALUE'] - data_final['VALUE_D-1']\n",
    "data_final['VARP'] = (data_final['VARV'] / abs(data_final['VALUE_D-1']))\n",
    "\n",
    "# Tag sur la dernière date de chaque ticker\n",
    "to_group = ['TICKER']\n",
    "data_final['MAX_DATE'] = data_final.groupby(to_group)[\"DATE\"].max()\n",
    "data_final[\"DERNIERE_DATE\"] = data_final.apply(lambda row: 1 if row['DATE'] == row['MAX_DATE'] else 0, axis=1)\n",
    "data_final = data_final.drop(\"MAX_DATE\", axis=1)\n",
    "\n",
    "# Tag market winner / Loser\n",
    "data_final.loc[data_final['VARP'] > 0, 'W_L'] = 1\n",
    "data_final.loc[data_final['VARP'] <= 0, 'W_L'] = 0\n",
    "\n",
    "# Affichage du dataframe\n",
    "data_final.head(5)"
   ]
  },
  {
   "cell_type": "markdown",
   "metadata": {},
   "source": [
    "## Output"
   ]
  },
  {
   "cell_type": "markdown",
   "metadata": {},
   "source": [
    "### Sauvegarde du fichier csv"
   ]
  },
  {
   "cell_type": "code",
   "execution_count": 13,
   "metadata": {
    "execution": {
     "iopub.execute_input": "2021-10-06T20:00:01.894578Z",
     "iopub.status.busy": "2021-10-06T20:00:01.894387Z",
     "iopub.status.idle": "2021-10-06T20:00:02.577301Z",
     "shell.execute_reply": "2021-10-06T20:00:02.576447Z",
     "shell.execute_reply.started": "2021-10-06T20:00:01.894556Z"
    },
    "tags": []
   },
   "outputs": [
    {
     "name": "stdout",
     "output_type": "stream",
     "text": [
      "CSV sauvegardé dans le répertoire courant.\n"
     ]
    }
   ],
   "source": [
    "# Ajout de la date de mise à jour\n",
    "data_final['DATE_MAJ'] = datetime.now().strftime('%Y/%m/%d %H:%M:%S')\n",
    "\n",
    "# Sauvegarde des données au format csv\n",
    "data_final.to_csv(OUTPUT_CSV,\n",
    "                  sep=\";\",\n",
    "                  decimal=',',\n",
    "                  index=False)\n",
    "\n",
    "print('CSV sauvegardé dans le répertoire courant.')"
   ]
  },
  {
   "cell_type": "markdown",
   "metadata": {},
   "source": [
    "### Exposition du csv"
   ]
  },
  {
   "cell_type": "code",
   "execution_count": 14,
   "metadata": {
    "execution": {
     "iopub.execute_input": "2021-10-06T20:00:02.578751Z",
     "iopub.status.busy": "2021-10-06T20:00:02.578338Z",
     "iopub.status.idle": "2021-10-06T20:00:03.206728Z",
     "shell.execute_reply": "2021-10-06T20:00:03.205032Z",
     "shell.execute_reply.started": "2021-10-06T20:00:02.578718Z"
    },
    "tags": []
   },
   "outputs": [
    {
     "name": "stdout",
     "output_type": "stream",
     "text": [
      "👌 Well done! Your Assets has been sent to production.\n",
      "\n"
     ]
    },
    {
     "data": {
      "application/javascript": [
       "\n",
       "    if (!window.copyToClipboard) {\n",
       "        window.copyToClipboard = (text) => {\n",
       "            const dummy = document.createElement(\"textarea\");\n",
       "            document.body.appendChild(dummy);\n",
       "            dummy.value = text;\n",
       "            dummy.select();\n",
       "            document.execCommand(\"copy\");\n",
       "            document.body.removeChild(dummy);\n",
       "        }\n",
       "    }\n",
       "    "
      ],
      "text/plain": [
       "<IPython.core.display.Javascript object>"
      ]
     },
     "metadata": {},
     "output_type": "display_data"
    },
    {
     "data": {
      "application/vnd.jupyter.widget-view+json": {
       "model_id": "0be7a61f7fc24c2aa5aaf5d0a67ce925",
       "version_major": 2,
       "version_minor": 0
      },
      "text/plain": [
       "Button(button_style='primary', description='Copy URL', style=ButtonStyle())"
      ]
     },
     "metadata": {},
     "output_type": "display_data"
    },
    {
     "data": {
      "application/vnd.jupyter.widget-view+json": {
       "model_id": "8756e072fa874518a7d08b9e2b1f46d9",
       "version_major": 2,
       "version_minor": 0
      },
      "text/plain": [
       "Output()"
      ]
     },
     "metadata": {},
     "output_type": "display_data"
    },
    {
     "name": "stdout",
     "output_type": "stream",
     "text": [
      "PS: to remove the \"Assets\" feature, just replace .add by .delete\n"
     ]
    },
    {
     "data": {
      "text/plain": [
       "'https://public.naas.ai/amVyZW15LTJFcmF2ZW5lbC00MGNhc2hzdG9yeS0yRWNvbQ==/asset/935d31c82bbb87a43f4f780eda40573c8def13fdf2cdfff17c1dfc27a181'"
      ]
     },
     "execution_count": 14,
     "metadata": {},
     "output_type": "execute_result"
    }
   ],
   "source": [
    "naas.asset.add(OUTPUT_CSV)"
   ]
  },
  {
   "cell_type": "markdown",
   "metadata": {},
   "source": [
    "### Exposition du rapport Excel"
   ]
  },
  {
   "cell_type": "code",
   "execution_count": 15,
   "metadata": {
    "execution": {
     "iopub.execute_input": "2021-10-06T20:00:03.217325Z",
     "iopub.status.busy": "2021-10-06T20:00:03.216896Z",
     "iopub.status.idle": "2021-10-06T20:00:03.821770Z",
     "shell.execute_reply": "2021-10-06T20:00:03.821139Z",
     "shell.execute_reply.started": "2021-10-06T20:00:03.217292Z"
    },
    "tags": []
   },
   "outputs": [
    {
     "name": "stdout",
     "output_type": "stream",
     "text": [
      "👌 Well done! Your Assets has been sent to production.\n",
      "\n"
     ]
    },
    {
     "data": {
      "application/javascript": [
       "\n",
       "    if (!window.copyToClipboard) {\n",
       "        window.copyToClipboard = (text) => {\n",
       "            const dummy = document.createElement(\"textarea\");\n",
       "            document.body.appendChild(dummy);\n",
       "            dummy.value = text;\n",
       "            dummy.select();\n",
       "            document.execCommand(\"copy\");\n",
       "            document.body.removeChild(dummy);\n",
       "        }\n",
       "    }\n",
       "    "
      ],
      "text/plain": [
       "<IPython.core.display.Javascript object>"
      ]
     },
     "metadata": {},
     "output_type": "display_data"
    },
    {
     "data": {
      "application/vnd.jupyter.widget-view+json": {
       "model_id": "b7a2757f90714e05a65563869933e8eb",
       "version_major": 2,
       "version_minor": 0
      },
      "text/plain": [
       "Button(button_style='primary', description='Copy URL', style=ButtonStyle())"
      ]
     },
     "metadata": {},
     "output_type": "display_data"
    },
    {
     "data": {
      "application/vnd.jupyter.widget-view+json": {
       "model_id": "fc88a3c6aeae4eafae91ac2d7a658532",
       "version_major": 2,
       "version_minor": 0
      },
      "text/plain": [
       "Output()"
      ]
     },
     "metadata": {},
     "output_type": "display_data"
    },
    {
     "name": "stdout",
     "output_type": "stream",
     "text": [
      "PS: to remove the \"Assets\" feature, just replace .add by .delete\n"
     ]
    }
   ],
   "source": [
    "excel_url = naas.asset.add(EXCEL_PATH)"
   ]
  },
  {
   "cell_type": "markdown",
   "metadata": {},
   "source": [
    "### Envoi de l'email executif"
   ]
  },
  {
   "cell_type": "code",
   "execution_count": 16,
   "metadata": {
    "execution": {
     "iopub.execute_input": "2021-10-06T20:00:03.823188Z",
     "iopub.status.busy": "2021-10-06T20:00:03.822951Z",
     "iopub.status.idle": "2021-10-06T20:00:03.839345Z",
     "shell.execute_reply": "2021-10-06T20:00:03.838626Z",
     "shell.execute_reply.started": "2021-10-06T20:00:03.823158Z"
    },
    "tags": []
   },
   "outputs": [
    {
     "name": "stdout",
     "output_type": "stream",
     "text": [
      "<p>Bonjour,</p>\n",
      "\n",
      "<p>Voici ton brief quotidien sur la situation des marchés à la date du 06/10/2021.</p>\n",
      "\n",
      "<p>Vous trouverez ci-joint <a href=\"https://public.naas.ai/ZWR1Y2F0aW9uLTQwY2FzaHN0b3J5LTJFY29t/asset/e80bac494cd9db68eb760b626930e9e90379f87444eeb71c53e94a08ca1d\">votre rapport excel</a>.</p>\n",
      "\n",
      "<p>Pour aller plus loin, consultez <a href=\"https://finance.yahoo.com/\">Yahoo finance</a>.</p>\n",
      "\n",
      "<p>La Team CashStory.</p>\n",
      "\n"
     ]
    }
   ],
   "source": [
    "# Lecture du fichier html\n",
    "content = open(MARKDOWN_PATH).read()\n",
    "html = markdown2.markdown(content)\n",
    "html = html.replace(\"{today}\", TODAY)\n",
    "html = html.replace(\"{excel}\", excel_url)\n",
    "print(html)"
   ]
  },
  {
   "cell_type": "code",
   "execution_count": 17,
   "metadata": {
    "execution": {
     "iopub.execute_input": "2021-10-06T20:00:03.840681Z",
     "iopub.status.busy": "2021-10-06T20:00:03.840372Z",
     "iopub.status.idle": "2021-10-06T20:00:05.348981Z",
     "shell.execute_reply": "2021-10-06T20:00:05.348283Z",
     "shell.execute_reply.started": "2021-10-06T20:00:03.840609Z"
    },
    "tags": []
   },
   "outputs": [
    {
     "name": "stdout",
     "output_type": "stream",
     "text": [
      "👌 💌 Email has been sent successfully !\n"
     ]
    }
   ],
   "source": [
    "# Fonction pour envoyer l'email\n",
    "files = [\"Dashboard_Market_data.xlsx\"]\n",
    "naas.notification.send(email_to=EMAIL_TO, subject=SUBJECT, html=html, files=files)"
   ]
  },
  {
   "cell_type": "markdown",
   "metadata": {
    "execution": {
     "iopub.execute_input": "2021-10-05T15:59:54.191485Z",
     "iopub.status.busy": "2021-10-05T15:59:54.191256Z",
     "iopub.status.idle": "2021-10-05T15:59:54.461489Z",
     "shell.execute_reply": "2021-10-05T15:59:54.459820Z",
     "shell.execute_reply.started": "2021-10-05T15:59:54.191462Z"
    },
    "tags": []
   },
   "source": [
    "### Automation"
   ]
  },
  {
   "cell_type": "code",
   "execution_count": 18,
   "metadata": {
    "execution": {
     "iopub.execute_input": "2021-10-06T20:00:05.350391Z",
     "iopub.status.busy": "2021-10-06T20:00:05.350016Z",
     "iopub.status.idle": "2021-10-06T20:00:05.712289Z",
     "shell.execute_reply": "2021-10-06T20:00:05.711600Z",
     "shell.execute_reply.started": "2021-10-06T20:00:05.350358Z"
    },
    "tags": []
   },
   "outputs": [
    {
     "name": "stdout",
     "output_type": "stream",
     "text": [
      "👌 Well done! Your Dependency has been sent to production. \n",
      "\n",
      "PS: to remove the \"Dependency\" feature, just replace .add by .delete\n"
     ]
    }
   ],
   "source": [
    "naas.dependency.add(MARKDOWN_PATH)\n",
    "#naas.scheduler.add(cron=\"0 10 * * *\")\n",
    "#naas.scheduler.get_output()"
   ]
  }
 ],
 "metadata": {
  "kernelspec": {
   "display_name": "Python 3",
   "language": "python",
   "name": "python3"
  },
  "language_info": {
   "codemirror_mode": {
    "name": "ipython",
    "version": 3
   },
   "file_extension": ".py",
   "mimetype": "text/x-python",
   "name": "python",
   "nbconvert_exporter": "python",
   "pygments_lexer": "ipython3",
   "version": "3.8.8"
  },
  "toc-autonumbering": false,
  "widgets": {
   "application/vnd.jupyter.widget-state+json": {
    "state": {
     "03ea4a972bc44267914db5b8c01f8682": {
      "model_module": "@jupyter-widgets/base",
      "model_module_version": "1.2.0",
      "model_name": "LayoutModel",
      "state": {}
     },
     "0be7a61f7fc24c2aa5aaf5d0a67ce925": {
      "model_module": "@jupyter-widgets/controls",
      "model_module_version": "1.5.0",
      "model_name": "ButtonModel",
      "state": {
       "button_style": "primary",
       "description": "Copy URL",
       "layout": "IPY_MODEL_4c8d235d2e8c48b1b757f9c967b4a5ae",
       "style": "IPY_MODEL_6e2846fd862443f9b73eb7c16b0f722b"
      }
     },
     "3dda2e1be307490b901098e8e8598c47": {
      "model_module": "@jupyter-widgets/base",
      "model_module_version": "1.2.0",
      "model_name": "LayoutModel",
      "state": {}
     },
     "3e2a15c8d70b45b5a82a1699e0fb2b46": {
      "model_module": "@jupyter-widgets/base",
      "model_module_version": "1.2.0",
      "model_name": "LayoutModel",
      "state": {}
     },
     "4c8d235d2e8c48b1b757f9c967b4a5ae": {
      "model_module": "@jupyter-widgets/base",
      "model_module_version": "1.2.0",
      "model_name": "LayoutModel",
      "state": {}
     },
     "6e2846fd862443f9b73eb7c16b0f722b": {
      "model_module": "@jupyter-widgets/controls",
      "model_module_version": "1.5.0",
      "model_name": "ButtonStyleModel",
      "state": {}
     },
     "8756e072fa874518a7d08b9e2b1f46d9": {
      "model_module": "@jupyter-widgets/output",
      "model_module_version": "1.0.0",
      "model_name": "OutputModel",
      "state": {
       "layout": "IPY_MODEL_3dda2e1be307490b901098e8e8598c47"
      }
     },
     "b7a2757f90714e05a65563869933e8eb": {
      "model_module": "@jupyter-widgets/controls",
      "model_module_version": "1.5.0",
      "model_name": "ButtonModel",
      "state": {
       "button_style": "primary",
       "description": "Copy URL",
       "layout": "IPY_MODEL_03ea4a972bc44267914db5b8c01f8682",
       "style": "IPY_MODEL_f48bd704c8ea40069ef77a7c49bf571b"
      }
     },
     "f48bd704c8ea40069ef77a7c49bf571b": {
      "model_module": "@jupyter-widgets/controls",
      "model_module_version": "1.5.0",
      "model_name": "ButtonStyleModel",
      "state": {}
     },
     "fc88a3c6aeae4eafae91ac2d7a658532": {
      "model_module": "@jupyter-widgets/output",
      "model_module_version": "1.0.0",
      "model_name": "OutputModel",
      "state": {
       "layout": "IPY_MODEL_3e2a15c8d70b45b5a82a1699e0fb2b46"
      }
     }
    },
    "version_major": 2,
    "version_minor": 0
   }
  }
 },
 "nbformat": 4,
 "nbformat_minor": 4
}
